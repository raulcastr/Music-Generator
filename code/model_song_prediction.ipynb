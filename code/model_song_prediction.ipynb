{
 "cells": [
  {
   "cell_type": "code",
   "execution_count": 2,
   "metadata": {},
   "outputs": [],
   "source": [
    "import pickle\n",
    "import time\n",
    "import os\n",
    "import numpy as np\n",
    "import sys\n",
    "import music21\n",
    "from keras.models import load_model\n",
    "import matplotlib.pyplot as plt\n",
    "from own_functions import create_network, sample_with_temp\n"
   ]
  },
  {
   "cell_type": "code",
   "execution_count": 7,
   "metadata": {},
   "outputs": [],
   "source": [
    "distincts = pickle.load(open(\"../data/stored_data/parsed_data/distincts\", \"rb\"))\n",
    "note_names, n_notes, duration_names, n_durations = distincts\n",
    "\n",
    "lookups = pickle.load(open(\"../data/stored_data/parsed_data/lookups\", \"rb\"))\n",
    "note_to_int, int_to_note, duration_to_int, int_to_duration = lookups"
   ]
  },
  {
   "cell_type": "code",
   "execution_count": 8,
   "metadata": {},
   "outputs": [],
   "source": [
    "model = load_model(\"../data/stored_data/models/bach_all.h5\")"
   ]
  },
  {
   "cell_type": "code",
   "execution_count": 9,
   "metadata": {},
   "outputs": [],
   "source": [
    "# prediction params\n",
    "notes_temp=0.5\n",
    "duration_temp = 0.5\n",
    "max_extra_notes = 50\n",
    "max_seq_len = 32\n",
    "seq_len = 32\n",
    "\n",
    "#random start: \n",
    "#notes = ['START', 'F#3', 'G#3', 'F#3', 'E3', 'F#3', 'G#3', 'F#3', 'E3', 'F#3', 'G#3', 'F#3', 'E3','F#3', 'G#3', 'F#3', 'E3', 'F#3', 'G#3', 'F#3', 'E3', 'F#3', 'G#3', 'F#3', 'E3']\n",
    "#durations = [0, 0.75, 0.25, 1, 1, 1, 2, 0.75, 0.25, 1, 1, 1, 2, 0.75, 0.25, 1, 1, 1, 2, 0.75, 0.25, 1, 1, 1, 2]\n",
    "\n",
    "\n",
    "#happy-birthday start:\n",
    "#notes = ['START', 'D3', 'D3', 'E3', 'D3', 'G3', 'F#3','D3', 'D3', 'E3', 'D3', 'A3', 'G3','D3', 'D3', 'E3', 'D3', 'G3', 'F#3','D3', 'D3', 'E3', 'D3', 'A3', 'G3']\n",
    "#durations = [0, 0.75, 0.25, 1, 1, 1, 2, 0.75, 0.25, 1, 1, 1, 2, 0.75, 0.25, 1, 1, 1, 2, 0.75, 0.25, 1, 1, 1, 2]\n",
    "\n",
    "\n",
    "#christmas-song start: \n",
    "#notes = ['START',\"D3\", \"G3\", \"G3\", \"A3\", \"G3\", \"F#3\", \"E3\", \"E3\", \"E3\", \"A3\", \"A3\", \"B3\", \"A3\", \"G3\", \"F#3\", \"D3\", \"D3\", \"B3\", \"B3\", \"C4\", \"B3\", \"A3\", \"G3\", \"E3\"]\n",
    "#durations = [0, 1, 1, 0.5,0.5,0.5,0.5,1,1,1,1,0.5,0.5,0.5,0.5,1,1,1,1,0.5,0.5,0.5,0.5,1,1]\n",
    "\n",
    "notes = ['START']\n",
    "durations = [0]\n",
    "\n",
    "# adding no-notes ('START') until the sequence is of 32 notes\n",
    "if seq_len is not None:\n",
    "    notes = ['START'] * (seq_len - len(notes)) + notes\n",
    "    durations = [0] * (seq_len - len(durations)) + durations\n",
    "\n",
    "sequence_length = len(notes)"
   ]
  },
  {
   "cell_type": "code",
   "execution_count": 13,
   "metadata": {},
   "outputs": [
    {
     "name": "stdout",
     "output_type": "stream",
     "text": [
      "Generated sequence of 82 notes\n"
     ]
    }
   ],
   "source": [
    "prediction_output = []\n",
    "notes_input_sequence = []\n",
    "durations_input_sequence = []\n",
    "\n",
    "overall_preds = []\n",
    "\n",
    "# parsing starting sequence: \n",
    "for n, d in zip(notes,durations):\n",
    "    note_int = note_to_int[n]\n",
    "    duration_int = duration_to_int[d]\n",
    "    \n",
    "    notes_input_sequence.append(note_int)\n",
    "    durations_input_sequence.append(duration_int)\n",
    "    \n",
    "    prediction_output.append([n, d])\n",
    "    \n",
    "    if n != 'START':\n",
    "        midi_note = music21.note.Note(n)\n",
    "\n",
    "        new_note = np.zeros(128)\n",
    "        new_note[midi_note.pitch.midi] = 1\n",
    "        overall_preds.append(new_note)\n",
    "        \n",
    "# predicting :\n",
    "\n",
    "for note_index in range(max_extra_notes):\n",
    "\n",
    "    prediction_input = [np.array([notes_input_sequence]), np.array([durations_input_sequence])]\n",
    "\n",
    "    notes_prediction, durations_prediction = model.predict(prediction_input, verbose=0)\n",
    "    \n",
    "    new_note = np.zeros(128)\n",
    "    \n",
    "    for idx, n_i in enumerate(notes_prediction[0]):\n",
    "        try:\n",
    "            note_name = int_to_note[idx]\n",
    "            midi_note = music21.note.Note(note_name)\n",
    "            new_note[midi_note.pitch.midi] = n_i\n",
    "            \n",
    "        except:\n",
    "            pass\n",
    "        \n",
    "    overall_preds.append(new_note)\n",
    "            \n",
    "    \n",
    "    i1 = sample_with_temp(notes_prediction[0], notes_temp)\n",
    "    i2 = sample_with_temp(durations_prediction[0], duration_temp)\n",
    "    \n",
    "\n",
    "    note_result = int_to_note[i1]\n",
    "    duration_result = int_to_duration[i2]\n",
    "    \n",
    "    prediction_output.append([note_result, duration_result])\n",
    "\n",
    "    notes_input_sequence.append(i1)\n",
    "    durations_input_sequence.append(i2)\n",
    "    \n",
    "    if len(notes_input_sequence) > max_seq_len:\n",
    "        notes_input_sequence = notes_input_sequence[1:]\n",
    "        durations_input_sequence = durations_input_sequence[1:]\n",
    "        \n",
    "#     print(note_result)\n",
    "#     print(duration_result)\n",
    "        \n",
    "    if note_result == 'START':\n",
    "        break\n",
    "\n",
    "overall_preds = np.transpose(np.array(overall_preds)) \n",
    "print('Generated sequence of '+str(len(prediction_output))+' notes')"
   ]
  },
  {
   "cell_type": "code",
   "execution_count": 388,
   "metadata": {},
   "outputs": [
    {
     "data": {
      "text/plain": [
       "'../data/generated_songs/output-song-20201217-135401.mid'"
      ]
     },
     "execution_count": 388,
     "metadata": {},
     "output_type": "execute_result"
    }
   ],
   "source": [
    "\n",
    "\n",
    "midi_stream = music21.stream.Stream()\n",
    "\n",
    "# create note and chord objects based on the values generated by the model\n",
    "for pattern in prediction_output:\n",
    "    note_pattern, duration_pattern = pattern\n",
    "    # pattern is a chord\n",
    "    if ('.' in note_pattern):\n",
    "        notes_in_chord = note_pattern.split('.')\n",
    "        chord_notes = []\n",
    "        for current_note in notes_in_chord:\n",
    "            new_note = music21.note.Note(current_note)\n",
    "            new_note.duration = music21.duration.Duration(duration_pattern)\n",
    "            new_note.storedInstrument = music21.instrument.Piano()\n",
    "            chord_notes.append(new_note)\n",
    "        new_chord = music21.chord.Chord(chord_notes)\n",
    "        midi_stream.append(new_chord)\n",
    "    elif note_pattern == 'rest':\n",
    "    # pattern is a rest\n",
    "        new_note = note.Rest()\n",
    "        new_note.duration = duration.Duration(duration_pattern)\n",
    "        new_note.storedInstrument = instrument.Piano()\n",
    "        midi_stream.append(new_note)\n",
    "    elif note_pattern != 'START':\n",
    "    # pattern is a note\n",
    "        new_note = music21.note.Note(note_pattern)\n",
    "        new_note.duration = music21.duration.Duration(duration_pattern)\n",
    "        new_note.storedInstrument = music21.instrument.Piano()\n",
    "        midi_stream.append(new_note)\n",
    "\n",
    "\n",
    "\n",
    "midi_stream = midi_stream.chordify()\n",
    "timestr = time.strftime(\"%Y%m%d-%H%M%S\")\n",
    "midi_stream.write('midi', fp=os.path.join(\"../data/generated_songs/\", 'output-song-' + timestr + '.mid'))"
   ]
  },
  {
   "cell_type": "code",
   "execution_count": null,
   "metadata": {},
   "outputs": [],
   "source": []
  },
  {
   "cell_type": "code",
   "execution_count": null,
   "metadata": {},
   "outputs": [],
   "source": []
  }
 ],
 "metadata": {
  "kernelspec": {
   "display_name": "Python 3",
   "language": "python",
   "name": "python3"
  },
  "language_info": {
   "codemirror_mode": {
    "name": "ipython",
    "version": 3
   },
   "file_extension": ".py",
   "mimetype": "text/x-python",
   "name": "python",
   "nbconvert_exporter": "python",
   "pygments_lexer": "ipython3",
   "version": "3.8.3"
  }
 },
 "nbformat": 4,
 "nbformat_minor": 4
}
